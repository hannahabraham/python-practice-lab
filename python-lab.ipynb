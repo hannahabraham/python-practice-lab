{
 "cells": [
  {
   "cell_type": "markdown",
   "id": "9f293d08-d11e-4fcc-a4aa-c6afef6724c8",
   "metadata": {},
   "source": [
    "### https://www.geeksforgeeks.org/data-science/data-science-coding-interview-questions/"
   ]
  },
  {
   "cell_type": "code",
   "execution_count": null,
   "id": "29e565b2-47f6-4aa5-81a5-4ab936a4a7ce",
   "metadata": {},
   "outputs": [],
   "source": [
    "# Write a function to reverse a string in Python\n",
    "def reverseString(str):\n",
    "    return str[::-1]\n",
    "print(reverseString(\"Hello World\"))"
   ]
  },
  {
   "cell_type": "code",
   "execution_count": null,
   "id": "499524a6-1bd0-4e25-ab7b-7648103c9196",
   "metadata": {},
   "outputs": [],
   "source": [
    "# Check if a string is a palindrome\n",
    "def checkIfPalindrome(str):\n",
    "    return str==str[::-1]\n",
    "print(checkIfPalindrome(\"HANNAH\"))\n",
    "print(checkIfPalindrome(\"Hello\"))"
   ]
  },
  {
   "cell_type": "code",
   "execution_count": null,
   "id": "f0ca9982-7874-490a-a4f0-ac30db6a738f",
   "metadata": {},
   "outputs": [],
   "source": [
    "# Write a function to find the nth Fibonacci number using recursion\n",
    "def fibonacci(n):\n",
    "    if(n<=1):\n",
    "        return n\n",
    "    else:\n",
    "        return fibonacci(n-2)+fibonacci(n-1)\n",
    "print(fibonacci(5))"
   ]
  },
  {
   "cell_type": "code",
   "execution_count": null,
   "id": "7b6e1841-8fce-493a-8380-162c41cf72ba",
   "metadata": {},
   "outputs": [],
   "source": [
    "# Find indices of two numbers that add up to a specific target in an array\n",
    "def sumCheck(nums, target):\n",
    "    indices={}\n",
    "    for index, num in enumerate(nums):\n",
    "        complement = target - num\n",
    "        if complement in indices:\n",
    "            return [indices[complement],index]\n",
    "        else:\n",
    "            indices[num]=index\n",
    "            #print(indices)\n",
    "print(sumCheck([2,3,7,15], 10))"
   ]
  },
  {
   "cell_type": "code",
   "execution_count": null,
   "id": "772c9d1d-6f50-42aa-a807-367532eaf2a0",
   "metadata": {},
   "outputs": [],
   "source": [
    "# Write a function to calculate the factorial of number\n",
    "def factorial(n):\n",
    "    if(n<=1):\n",
    "        return 1\n",
    "    else:\n",
    "        return n * factorial(n-1)\n",
    "print(factorial(5))"
   ]
  },
  {
   "cell_type": "code",
   "execution_count": null,
   "id": "918f6568-5c62-44a4-bc41-cc16c0d1d84a",
   "metadata": {},
   "outputs": [],
   "source": [
    "# Count the occurences of each element in the list\n",
    "from collections import Counter\n",
    "list=[1,22,1,22,4,4,5,6,5]\n",
    "print(Counter(list))"
   ]
  },
  {
   "cell_type": "code",
   "execution_count": null,
   "id": "e15e1ec5-f9a8-4c8c-a251-c129dcae068b",
   "metadata": {},
   "outputs": [],
   "source": [
    "# Load a csv file into a Pandas dataframe\n",
    "import pandas as pd\n",
    "df = pd.read_csv(\"Housing.csv\")\n",
    "df.head()"
   ]
  },
  {
   "cell_type": "code",
   "execution_count": null,
   "id": "bb5605de-8f91-4dcf-812c-71541581bd71",
   "metadata": {},
   "outputs": [],
   "source": [
    "# Write a function to calculate the element wise sum of two numpy arrays\n",
    "import numpy as np\n",
    "narr1 = np.array([1,2,3])\n",
    "narr2 = np.array([2,4,5])\n",
    "sum = np.add(narr1, narr2)\n",
    "print(sum)"
   ]
  },
  {
   "cell_type": "code",
   "execution_count": null,
   "id": "ccda22d8-fdca-41b9-9b68-c7ac33805577",
   "metadata": {},
   "outputs": [],
   "source": [
    "# Extract the diagonal elements of a matrix\n",
    "matrix=np.array([[1,2,3],[4,5,6],[7,8,9]])\n",
    "print(np.diagonal(matrix))"
   ]
  },
  {
   "cell_type": "code",
   "execution_count": null,
   "id": "b3bb67c7-eccb-4715-b2be-18c2e1a78337",
   "metadata": {},
   "outputs": [],
   "source": [
    "# Reshape a 1D array into a a 2D array with 3 rows\n",
    "arr =np.array([1,2,3,4,5,6])\n",
    "print(arr.reshape(3,2))"
   ]
  },
  {
   "cell_type": "code",
   "execution_count": null,
   "id": "dadfcdb0-25e3-4ce7-bde0-8d78cf87bcac",
   "metadata": {},
   "outputs": [],
   "source": [
    "# Calculate mean, median and standard deviation of a list of numbers\n",
    "list = [1,3,4,5,6,7]\n",
    "print(np.mean(list))\n",
    "print(np.median(list))\n",
    "print(np.std(list))"
   ]
  },
  {
   "cell_type": "code",
   "execution_count": null,
   "id": "9d7415e8-0963-432e-bd07-2112c973fd2a",
   "metadata": {},
   "outputs": [],
   "source": [
    "# Handle Missing Value in a Dataframe\n",
    "\n",
    "# Fill with mean df.fillna(df.mean(), inplace=True)\n",
    "# drop null values df.dropna(inplace=True)"
   ]
  },
  {
   "cell_type": "code",
   "execution_count": null,
   "id": "84f900f0-fa1d-48c8-8b46-41b01a57e49b",
   "metadata": {},
   "outputs": [],
   "source": [
    "# Write to a file \n",
    "with open('file.txt','w') as file:\n",
    "    file.write(\"Hello, world\")"
   ]
  },
  {
   "cell_type": "code",
   "execution_count": null,
   "id": "29beda8d-4197-42bb-81a0-d4d5db61205c",
   "metadata": {},
   "outputs": [],
   "source": [
    "# Read a file\n",
    "with open('file.txt','r') as file:\n",
    "    content=file.read()\n",
    "print(content)"
   ]
  },
  {
   "cell_type": "code",
   "execution_count": null,
   "id": "3ccbe4bf-809f-4762-819f-2091b2ae45f2",
   "metadata": {},
   "outputs": [],
   "source": [
    "# Return JSON data in a Flask route\n",
    "!pip install flask\n",
    "from flask import Flask, jsonify\n",
    "\n",
    "app = Flask(__name__)\n",
    "\n",
    "@app.route('/data')\n",
    "def data():\n",
    "    return jsonify({\"name\":\"Ram\", \"age\":30})\n",
    "@app.route('/')\n",
    "def hello():\n",
    "    return \"Hello\"\n",
    "\n",
    "@app.route('/form',methods=['POST','GET'])\n",
    "def form():\n",
    "    if request.method == 'POST':\n",
    "        return \"form sumbmitted\"\n",
    "if __name__== '__main__':\n",
    "    app.run()"
   ]
  },
  {
   "cell_type": "code",
   "execution_count": null,
   "id": "c74836a3-2b4d-470a-b5fb-6b741201e859",
   "metadata": {},
   "outputs": [],
   "source": [
    "# Create a class to represent a Person with Basic Attributes\n",
    "class Person:\n",
    "    def __init__(self, name, age):\n",
    "        self.name = name\n",
    "        self.age = age\n",
    "        \n",
    "    def __str__(self):\n",
    "        return f\"Name {self.name}, Age: {self.age}\"\n",
    "    \n",
    "\n",
    "person1 = Person(\"Ram\",30)\n",
    "print(person1)"
   ]
  },
  {
   "cell_type": "code",
   "execution_count": null,
   "id": "9524a062-f52b-44e3-b216-50f7d3d3e9c3",
   "metadata": {},
   "outputs": [],
   "source": [
    "# Find the first non repeated character in a strin\n",
    "def first_non_repeated_chr(str):\n",
    "    chr_count ={}\n",
    "    for char in str:\n",
    "        if char in chr_count:\n",
    "            chr_count[char] = chr_count[char] + 1\n",
    "        else:\n",
    "            chr_count[char]= 1\n",
    "    for char in str:\n",
    "        if chr_count[char]==1:\n",
    "            return char\n",
    "    return 'None'\n",
    "\n",
    "print(first_non_repeated_chr('madam'))\n",
    "print(first_non_repeated_chr('aabbcc')) "
   ]
  },
  {
   "cell_type": "code",
   "execution_count": null,
   "id": "62d059ad-56d3-492b-b83e-d7205f96421e",
   "metadata": {},
   "outputs": [],
   "source": [
    "# Check if two strings are anagrams of each other\n",
    "def check_anagram(str1, str2):\n",
    "    if len(str1) != len(str2):\n",
    "        return False\n",
    "    return sorted(str1) == sorted(str2)\n",
    "\n",
    "print(check_anagram('listen', 'silent'))\n",
    "print(check_anagram('cat', 'mate'))\n",
    "\n",
    "    "
   ]
  },
  {
   "cell_type": "code",
   "execution_count": null,
   "id": "318b5a6a-105e-405f-b56f-12cf38d08190",
   "metadata": {},
   "outputs": [],
   "source": [
    "# Transpose an array in numpy\n",
    "import numpy as np\n",
    "\n",
    "arr1 = np.array([[1,2],[3,4]])\n",
    "transposed_arr = arr1.T\n",
    "print(transposed_arr)"
   ]
  },
  {
   "cell_type": "code",
   "execution_count": null,
   "id": "f4fb0281-47f9-477e-abbb-06fe793709a7",
   "metadata": {},
   "outputs": [],
   "source": [
    "# Find the median of two sorted arrays of different sizes\n",
    "def find_median(arr1, arr2):\n",
    "    merged = sorted(arr1+arr2)\n",
    "    n= len(merged)\n",
    "    if(n%2==1):\n",
    "        return merged [n //2]\n",
    "    else :\n",
    "        return (merged[n // 2 ] + merged[n //2 -1])/2\n",
    "print(find_median([1,2],[3,4,5]))"
   ]
  },
  {
   "cell_type": "code",
   "execution_count": null,
   "id": "beb32992-6a45-4a72-9ebf-3d42898df1fc",
   "metadata": {},
   "outputs": [],
   "source": [
    "# Implement a sliding window to find the maximum sum of subarray of a given size k\n",
    "def max_sum_subarray(arr,k):\n",
    "    n = len(arr)\n",
    "    if(n<k):\n",
    "        return None\n",
    "    window_sum = sum(arr[:k])\n",
    "    max_sum = window_sum\n",
    "    \n",
    "    for i in range(k,n):\n",
    "        window_sum = window_sum + arr[i] - arr[i-k]\n",
    "        max_sum = max(window_sum, max_sum)\n",
    "    return max_sum\n",
    "\n",
    "print(max_sum_subarray([2,1,5,1,3,2],3))\n",
    "        "
   ]
  },
  {
   "cell_type": "code",
   "execution_count": null,
   "id": "c55d2e27-5ee7-4f2a-9b86-cbf0e1bbaf6d",
   "metadata": {},
   "outputs": [],
   "source": [
    "# Find the kth smallest element in an unsorted array\n",
    "\n",
    "# Way 1 Sorting O(nlog(n))\n",
    "def kth_smallest_array(arr,k):\n",
    "    arr.sort()\n",
    "    return arr[k-1]\n",
    "print(kth_smallest_array([2,4,1,5],2))\n",
    "\n",
    "# Way 2 Heap O(nlog(k))\n",
    "import heapq\n",
    "def kth_smallest_array2(arr,k):\n",
    "    return heapq.nsmallest(k,arr)[-1]\n",
    "print(kth_smallest_array([2,4,1,5],2))"
   ]
  },
  {
   "cell_type": "code",
   "execution_count": null,
   "id": "5551410e-6e1e-4a41-94f6-ad1d67455751",
   "metadata": {},
   "outputs": [],
   "source": [
    "# Generate all possible permutation of a given list of numbers\n",
    "from itertools import permutations\n",
    "def list_permutations(arr):\n",
    "    return list(permutations(arr))\n",
    "\n",
    "print(list_permutations([1,2,3]))"
   ]
  },
  {
   "cell_type": "code",
   "execution_count": null,
   "id": "7b940b32-5fca-4913-9e66-3492e075927a",
   "metadata": {},
   "outputs": [],
   "source": [
    "# Implement a simple NER function using regular expression to extract names, locations and dates\n",
    "import re\n",
    "def simple_ner(text):\n",
    "    name = re.findall(r'\\b[A-Z][a-z]*\\b',text)\n",
    "    locations = re.findall(r'\\b(?:New York|Paris|London)\\b',text)\n",
    "    dates = re.findall(r'\\b\\d{1,2}/\\d{1,2}/\\d{4}\\b',text)\n",
    "    return {'names':name,'location':locations,'dates':dates}\n",
    "\n",
    "text = \"John went to New York on 12/12/2020\"\n",
    "print(simple_ner(text))"
   ]
  },
  {
   "cell_type": "code",
   "execution_count": null,
   "id": "f831f587-da8e-4f6f-a23a-24488969076a",
   "metadata": {},
   "outputs": [],
   "source": [
    "# Write a function to convert a colour image to grayscale\n",
    "import cv2\n",
    "\n",
    "def to_grayscale(image_path):\n",
    "    image = cv2.read_path(image_path)\n",
    "    return cv2.cvtColour(image, cv2.COLOUR_BGR2GRAY)"
   ]
  },
  {
   "cell_type": "code",
   "execution_count": null,
   "id": "fbb68252-ac52-497a-9573-0aa6783011a8",
   "metadata": {},
   "outputs": [],
   "source": [
    "# Write a custom loss function that calculates the mean squared error but with a twist:it penalizes the model more if the predicted values are too large\n",
    "import tensorflow as tf\n",
    "\n",
    "def custom_loss(y_true, y_pred):\n",
    "    mse = tf.reduce_mean(tf.square(y_true-y_pred))\n",
    "    penalty = tf.reduce_mean(tf.square(y_pred)) * 0.01\n",
    "    return mse + penalty"
   ]
  },
  {
   "cell_type": "code",
   "execution_count": null,
   "id": "ce34b9aa-f75f-4f1f-bdc7-c66ab44d8aea",
   "metadata": {},
   "outputs": [],
   "source": [
    "#  Implememt a custom activation function that combines RelU and sigmoid. Use it in a neural network\n",
    "\n",
    "import tensorflow as tf\n",
    "from tensorflow.keras.layers import Layer\n",
    "\n",
    "class CustomActivation(Layer):\n",
    "    def call(self,inputs):\n",
    "        return tf.nn.relu(inputs) * tf.sigmoid(relu)\n",
    "\n",
    "model = tf.keras.Sequential([tf.keras.layers.Dense(128, activation=CustomActivation(), input_shape=(784,)) ])"
   ]
  }
 ],
 "metadata": {
  "kernelspec": {
   "display_name": "Python 3 (ipykernel)",
   "language": "python",
   "name": "python3"
  },
  "language_info": {
   "codemirror_mode": {
    "name": "ipython",
    "version": 3
   },
   "file_extension": ".py",
   "mimetype": "text/x-python",
   "name": "python",
   "nbconvert_exporter": "python",
   "pygments_lexer": "ipython3",
   "version": "3.12.4"
  }
 },
 "nbformat": 4,
 "nbformat_minor": 5
}
