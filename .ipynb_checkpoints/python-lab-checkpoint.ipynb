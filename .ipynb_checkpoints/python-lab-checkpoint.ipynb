{
 "cells": [
  {
   "cell_type": "markdown",
   "id": "9f293d08-d11e-4fcc-a4aa-c6afef6724c8",
   "metadata": {},
   "source": [
    "### https://www.geeksforgeeks.org/data-science/data-science-coding-interview-questions/"
   ]
  },
  {
   "cell_type": "code",
   "execution_count": null,
   "id": "29e565b2-47f6-4aa5-81a5-4ab936a4a7ce",
   "metadata": {},
   "outputs": [],
   "source": [
    "# Write a function to reverse a string in Python\n",
    "def reverseString(str):\n",
    "    return str[::-1]\n",
    "print(reverseString(\"Hello World\"))"
   ]
  },
  {
   "cell_type": "code",
   "execution_count": null,
   "id": "499524a6-1bd0-4e25-ab7b-7648103c9196",
   "metadata": {},
   "outputs": [],
   "source": [
    "# Check if a string is a palindrome\n",
    "def checkIfPalindrome(str):\n",
    "    return str==str[::-1]\n",
    "print(checkIfPalindrome(\"HANNAH\"))\n",
    "print(checkIfPalindrome(\"Hello\"))"
   ]
  },
  {
   "cell_type": "code",
   "execution_count": null,
   "id": "f0ca9982-7874-490a-a4f0-ac30db6a738f",
   "metadata": {},
   "outputs": [],
   "source": [
    "# Write a function to find the nth Fibonacci number using recursion\n",
    "def fibonacci(n):\n",
    "    if(n<=1):\n",
    "        return n\n",
    "    else:\n",
    "        return fibonacci(n-2)+fibonacci(n-1)\n",
    "print(fibonacci(5))"
   ]
  },
  {
   "cell_type": "code",
   "execution_count": null,
   "id": "7b6e1841-8fce-493a-8380-162c41cf72ba",
   "metadata": {},
   "outputs": [],
   "source": [
    "# Find indices of two numbers that add up to a specific target in an array\n",
    "def sumCheck(nums, target):\n",
    "    indices={}\n",
    "    for index, num in enumerate(nums):\n",
    "        complement = target - num\n",
    "        if complement in indices:\n",
    "            return [indices[complement],index]\n",
    "        else:\n",
    "            indices[num]=index\n",
    "            #print(indices)\n",
    "print(sumCheck([2,3,7,15], 10))"
   ]
  },
  {
   "cell_type": "code",
   "execution_count": null,
   "id": "772c9d1d-6f50-42aa-a807-367532eaf2a0",
   "metadata": {},
   "outputs": [],
   "source": [
    "# Write a function to calculate the factorial of number\n",
    "def factorial(n):\n",
    "    if(n<=1):\n",
    "        return 1\n",
    "    else:\n",
    "        return n * factorial(n-1)\n",
    "print(factorial(5))"
   ]
  },
  {
   "cell_type": "code",
   "execution_count": null,
   "id": "918f6568-5c62-44a4-bc41-cc16c0d1d84a",
   "metadata": {},
   "outputs": [],
   "source": [
    "# Count the occurences of each element in the list\n",
    "from collections import Counter\n",
    "list=[1,22,1,22,4,4,5,6,5]\n",
    "print(Counter(list))"
   ]
  },
  {
   "cell_type": "code",
   "execution_count": null,
   "id": "e15e1ec5-f9a8-4c8c-a251-c129dcae068b",
   "metadata": {},
   "outputs": [],
   "source": [
    "# Load a csv file into a Pandas dataframe\n",
    "import pandas as pd\n",
    "df = pd.read_csv(\"Housing.csv\")\n",
    "df.head()"
   ]
  },
  {
   "cell_type": "code",
   "execution_count": null,
   "id": "bb5605de-8f91-4dcf-812c-71541581bd71",
   "metadata": {},
   "outputs": [],
   "source": [
    "# Write a function to calculate the element wise sum of two numpy arrays\n",
    "import numpy as np\n",
    "narr1 = np.array([1,2,3])\n",
    "narr2 = np.array([2,4,5])\n",
    "sum = np.add(narr1, narr2)\n",
    "print(sum)"
   ]
  },
  {
   "cell_type": "code",
   "execution_count": null,
   "id": "ccda22d8-fdca-41b9-9b68-c7ac33805577",
   "metadata": {},
   "outputs": [],
   "source": [
    "# Extract the diagonal elements of a matrix\n",
    "matrix=np.array([[1,2,3],[4,5,6],[7,8,9]])\n",
    "print(np.diagonal(matrix))"
   ]
  },
  {
   "cell_type": "code",
   "execution_count": null,
   "id": "b3bb67c7-eccb-4715-b2be-18c2e1a78337",
   "metadata": {},
   "outputs": [],
   "source": [
    "# Reshape a 1D array into a a 2D array with 3 rows\n",
    "arr =np.array([1,2,3,4,5,6])\n",
    "print(arr.reshape(3,2))"
   ]
  },
  {
   "cell_type": "code",
   "execution_count": null,
   "id": "dadfcdb0-25e3-4ce7-bde0-8d78cf87bcac",
   "metadata": {},
   "outputs": [],
   "source": [
    "# Calculate mean, median and standard deviation of a list of numbers\n",
    "list = [1,3,4,5,6,7]\n",
    "print(np.mean(list))\n",
    "print(np.median(list))\n",
    "print(np.std(list))"
   ]
  },
  {
   "cell_type": "code",
   "execution_count": null,
   "id": "9d7415e8-0963-432e-bd07-2112c973fd2a",
   "metadata": {},
   "outputs": [],
   "source": [
    "# Handle Missing Value in a Dataframe\n",
    "\n",
    "# Fill with mean df.fillna(df.mean(), inplace=True)\n",
    "# drop null values df.dropna(inplace=True)"
   ]
  },
  {
   "cell_type": "code",
   "execution_count": null,
   "id": "84f900f0-fa1d-48c8-8b46-41b01a57e49b",
   "metadata": {},
   "outputs": [],
   "source": [
    "# Write to a file \n",
    "with open('file.txt','w') as file:\n",
    "    file.write(\"Hello, world\")"
   ]
  },
  {
   "cell_type": "code",
   "execution_count": null,
   "id": "29beda8d-4197-42bb-81a0-d4d5db61205c",
   "metadata": {},
   "outputs": [],
   "source": [
    "# Read a file\n",
    "with open('file.txt','r') as file:\n",
    "    content=file.read()\n",
    "print(content)"
   ]
  },
  {
   "cell_type": "code",
   "execution_count": null,
   "id": "3ccbe4bf-809f-4762-819f-2091b2ae45f2",
   "metadata": {},
   "outputs": [],
   "source": [
    "# Return JSON data in a Flask route\n",
    "!pip install flask\n",
    "from flask import Flask, jsonify\n",
    "\n",
    "app = Flask(__name__)\n",
    "\n",
    "@app.route('/data')\n",
    "def data():\n",
    "    return jsonify({\"name\":\"Ram\", \"age\":30})\n",
    "@app.route('/')\n",
    "def hello():\n",
    "    return \"Hello\"\n",
    "\n",
    "@app.route('/form',methods=['POST','GET'])\n",
    "def form():\n",
    "    if request.method == 'POST':\n",
    "        return \"form sumbmitted\"\n",
    "if __name__== '__main__':\n",
    "    app.run()"
   ]
  },
  {
   "cell_type": "code",
   "execution_count": null,
   "id": "c74836a3-2b4d-470a-b5fb-6b741201e859",
   "metadata": {},
   "outputs": [],
   "source": []
  },
  {
   "cell_type": "code",
   "execution_count": null,
   "id": "9524a062-f52b-44e3-b216-50f7d3d3e9c3",
   "metadata": {},
   "outputs": [],
   "source": []
  }
 ],
 "metadata": {
  "kernelspec": {
   "display_name": "Python 3 (ipykernel)",
   "language": "python",
   "name": "python3"
  },
  "language_info": {
   "codemirror_mode": {
    "name": "ipython",
    "version": 3
   },
   "file_extension": ".py",
   "mimetype": "text/x-python",
   "name": "python",
   "nbconvert_exporter": "python",
   "pygments_lexer": "ipython3",
   "version": "3.12.4"
  }
 },
 "nbformat": 4,
 "nbformat_minor": 5
}
